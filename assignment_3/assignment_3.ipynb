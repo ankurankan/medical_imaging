{
 "cells": [
  {
   "cell_type": "markdown",
   "metadata": {},
   "source": [
    "# Airway segmentation in chest CT scans\n",
    "<img src=\"figures/airway.jpg\" width=\"120\" height=\"120\" align=\"right\">\n",
    "In this assignment, you will develop a CAD system for automatic segmentation of airways in chest CT scans. The images used in this assignment are extracted from the EXACT09 challenge, which was organized in 2009. The website of the EXACT09 challenge can be found at this link: http://image.diku.dk/exact/.\n",
    "You will be developing your CAD system in this notebook, but we propose using MeVisLab as a tool to visualize the results of your segmentation.\n",
    "In order to install MeVisLab, please follow the instructions detailed in the Google groups at this link: https://groups.google.com/forum/#!topic/ismi18/_M6pfZ91y00 (see section on \"Installing MeVisLab\")."
   ]
  },
  {
   "cell_type": "markdown",
   "metadata": {},
   "source": [
    "## Teaching assistants\n",
    "\n",
    "- Ajay Patel: ajay.patel@radboudumc.nl\n",
    "- Midas Meijs: midas.meijs@radboudumc.nl"
   ]
  },
  {
   "cell_type": "markdown",
   "metadata": {},
   "source": [
    "## Students\n",
    "\n",
    "Please fill in this cell with your name and e-mail address. This information will be used to grade your assignment.\n",
    "\n",
    "* Name student #1, email address: ...\n",
    "* Name student #2, email address: ..."
   ]
  },
  {
   "cell_type": "markdown",
   "metadata": {},
   "source": [
    "## Instructions\n",
    "\n",
    "* Groups: You should work in pairs or alone\n",
    "* Deadline for this assignment: \n",
    " * Tuesday (February 27th) until midnight\n",
    " * 5 points (maximum grade = 100 points) penalization per day after deadline\n",
    "* Submit your **fully executed** notebook to the grand-challenge.org platform\n",
    "* The grades will be available before March 2nd (tentative)\n",
    "\n",
    "This notebooks contains cells with snippets of code that we provide in order to load and visualize data, but also some convenience functions that could be useful to develop your assignment.\n",
    "\n",
    "\n",
    "We also provide templates for functions that have to be implemented, with a given list of input variables and some output variables. **Feel free to modify the input and output variables to adapt them to your favourite implementation.** However, this should at least provide the outputs required to develop the rest of the notebook.\n",
    "\n",
    "\n",
    "Your submission should contain the **fully executed** notebook with **your code** implemented, as well as **your answers** to questions, which will be used to grade your assignment."
   ]
  },
  {
   "cell_type": "markdown",
   "metadata": {},
   "source": [
    "## Tasks for this assignment\n",
    "\n",
    "This assignement consist of two main tasks:\n",
    "\n",
    "1. Develop an algorithm for **automatic airway segmentation** based on connected component.\n",
    "2. Improve the performance of your algorithm by combining your solution with other known techniques.\n",
    "\n",
    "## Task 1 (max 80 points):\n",
    "\n",
    "### Develop an algorithm for automatic airway segmentation \n",
    "\n",
    "* Use (double) thresholding techniques, find the optimal value of threshold per scan\n",
    "* Use connected components, find the best neighborhood strategy empirically\n",
    "* Use the trachea seed point to detect the connected component that belong to airways\n",
    "* Implement some explosion control technique, you can use the data from training set for that\n",
    "\n",
    "### Submission to the grand-challenge.org\n",
    "The output of this assignment must be the airway segmentation for the 10 test cases from the EXACT09 challenge, provided together with this notebook.\n",
    "In order to generate and submit the results to the grand-challenge website:\n",
    "* Run your airway segmentation algorithm on the 10 test images\n",
    "* Save the segmentation output (3D matrix) as an ITK file to a local folder. **Segmented airway voxels should have a value different from zero**. \n",
    "* Create a zip-file of your final results.\n",
    "* Submit the results to the grand challenge website.\n",
    "\n",
    "## Task 2 (max 20 points):\n",
    "\n",
    "### Improve airway segmentation\n",
    "\n",
    "Use your knowledge on *filtering*, *texture descriptors* and *morphology* to improve the result of your airway segmentation method. Your improvement can be based on some post-processing of the result obtained with connected components, or a new solution. Be creative!"
   ]
  },
  {
   "cell_type": "markdown",
   "metadata": {},
   "source": [
    "# Introduction"
   ]
  },
  {
   "cell_type": "markdown",
   "metadata": {},
   "source": [
    "In this assignment, we are going to develop a system for automatic segmentation of airways in chest CT scans. The input data is a 3D volume of the human thorax. An example of *coronal* slice of this 3D volume is shown in Figure 1a. The output of this assignment is also a 3D volume containing binary values for each voxel, indicating whether it belongs to an airway or not. The output airway segmentation should be a single **connected component**. An example of this output is shown as a coronal 2D overlay in Figure 1b and as a 3D volume in Figure 1c.\n",
    "\n",
    "<img src=\"./figures/exampleCT_and_airwaySegmentation_small.png\" alt=\"example coronal slice of an chest CT and an example airway segmentation\" style=\"width:1000px;height:300px;\">\n",
    "<I>Figure 1. An example of coronal slice of a 3D chest CT scan (a) and an example of output of an airway segmentation algorithm (b and c). The example airway segmentation is shown as a red overlay in (b) and as a 3D rendering in (c). The blue arrows in (b) show some examples of an airway wall.</I>\n",
    "<br>\n",
    "<br>\n",
    "The main goal of airway segmentation is to differentiate the airway lumen from the surrounding lung tissue (also called <I>lung parenchyma</I>). Both appear as dark voxels on CT but are separated by the airway wall which appear as a brighter tube surrounding the airway lumen. The blue arrows in Figure 1b give some examples of an airway wall. For the larger airways, the thick airway walls provide a clear separation between the airway lumen and the surrounding lung parenchyma. However, this separation becomes less pronounced for smaller airways because of limitations in resolution and partial volume effects, which often results in a segmentation that leaks into the lung parenchyma as is shown in Figure 2b and 2c. \n",
    "\n",
    "<img src=\"./figures/exampleCT_and_airwaySegmentation_small_leaks.png\" alt=\"example coronal slice of an chest CT and an example airway segmentation\" style=\"width:1000px;height:300px;\">\n",
    "<I>Figure 2. An example of the same coronal slice as shown in Figure 1, but with an airway segmentation that leaked into the lung parenchyma (b and c). The example leaky airway segmentation is shown as a red overlay in (b) and as a 3D rendering in (c).</I>\n",
    "<br>\n",
    "<br>\n",
    "A common issue when segmenting airways is **how to define a good trade-off between increasing the airway tree length and reducing the number of leaks**. In most methods, this trade-off is determined by optimising the parameters that influence the tree length and the number of leaks.\n",
    "\n"
   ]
  },
  {
   "cell_type": "markdown",
   "metadata": {},
   "source": [
    "## Clinical background\n",
    "\n",
    "Airway segmentation in CT plays an important role in the analysis of pulmonary diseases. A robust method to automatically segment an airway tree in CT is especially relevant for quantifying airway changes such as thickening of the airway wall and changes in lumen diameter. Quantifying these airway changes may be key for improving the diagnosis and treatment planning for pulmonary diseases involving airway pathology such as chronic obstructive pulmonary disease (COPD), cystic fibrosis, or bronchiectasis. In addition, segmented airways can aid in segmenting other pulmonary structures such as lobes, segments, and pulmonary arteries and veins."
   ]
  },
  {
   "cell_type": "markdown",
   "metadata": {},
   "source": [
    "## Initialization\n",
    "First, we import the basic libraries necessary to develop this assignment. Feel free to include more libraries if needed."
   ]
  },
  {
   "cell_type": "code",
   "execution_count": 1,
   "metadata": {
    "collapsed": true
   },
   "outputs": [],
   "source": [
    "# import libraries needed for this assignment\n",
    "import requests\n",
    "import zipfile\n",
    "from tqdm import tnrange, tqdm_notebook\n",
    "import SimpleITK as sitk\n",
    "import os\n",
    "import dicom\n",
    "import ntpath\n",
    "import numpy as np\n",
    "import matplotlib.pyplot as plt\n",
    "import skimage.morphology\n",
    "%matplotlib inline\n",
    "from IPython import display\n",
    "import shutil"
   ]
  },
  {
   "cell_type": "markdown",
   "metadata": {},
   "source": [
    "## Data\n",
    "\n",
    "For the development and evaluation of your airway segmentation method, we are going to use data from an internationally recognised challenge for airway segmentation (EXACT'09, http://image.diku.dk/exact/). The goal of EXACT'09 is to compare algorithms that extract the airway tree from chest CT scans using a common data set of 20 chest CT scans. From EXACT09, we selected 10 cases for training and 10 cases for test.\n",
    "\n",
    "The data for this assignment can be downloaded by executing the next cell. This will download and uncompress data contained in the file ```EXACT09.zip``` to a folder ```/your_notebook_directory/assignment_3```. After the file is unzipped, it is removed.\n",
    "\n",
    "Run the next cell and wait until the progress bar becomes green. **This can take up to 30 minutes (file size ~2GB).**"
   ]
  },
  {
   "cell_type": "markdown",
   "metadata": {},
   "source": [
    "The original evaluation of the EXACT09 challenge focusses on the following measurements:\n",
    "\n",
    "- airway tree length (in mm)\n",
    "- percentage of detected airway tree length (as compared to the reference standard)\n",
    "- volume of leaked voxels (in mm<sup>3</sup>)\n",
    "- false positive rate (percentage of leaked voxels as compared to correctly segmented voxels)\n",
    "\n",
    "However, in order to simplify the evaluation procedure, in this assignment we are only going to consider the **Dice** score.\n",
    "\n",
    "In order to develop your method, a set of 10 chest CT scans with reference airway segmentations are made available (training/tuning set). These reference airway segmentations will give you a good idea on what you may expect from your segmentation algorithm, and may be used to train/tune your algorithm."
   ]
  },
  {
   "cell_type": "code",
   "execution_count": 2,
   "metadata": {
    "collapsed": true
   },
   "outputs": [
    {
     "data": {
      "application/vnd.jupyter.widget-view+json": {
       "model_id": "bf838e3f824e4b6db07c25747134d85d",
       "version_major": 2,
       "version_minor": 0
      },
      "text/html": [
       "<p>Failed to display Jupyter Widget of type <code>HBox</code>.</p>\n",
       "<p>\n",
       "  If you're reading this message in the Jupyter Notebook or JupyterLab Notebook, it may mean\n",
       "  that the widgets JavaScript is still loading. If this message persists, it\n",
       "  likely means that the widgets JavaScript library is either not installed or\n",
       "  not enabled. See the <a href=\"https://ipywidgets.readthedocs.io/en/stable/user_install.html\">Jupyter\n",
       "  Widgets Documentation</a> for setup instructions.\n",
       "</p>\n",
       "<p>\n",
       "  If you're reading this message in another frontend (for example, a static\n",
       "  rendering on GitHub or <a href=\"https://nbviewer.jupyter.org/\">NBViewer</a>),\n",
       "  it may mean that your frontend doesn't currently support widgets.\n",
       "</p>\n"
      ],
      "text/plain": [
       "HBox(children=(IntProgress(value=1, bar_style='info', description='Downloading data', max=1), HTML(value='')))"
      ]
     },
     "metadata": {},
     "output_type": "display_data"
    },
    {
     "name": "stdout",
     "output_type": "stream",
     "text": [
      "\n"
     ]
    }
   ],
   "source": [
    "link = 'https://surfdrive.surf.nl/files/index.php/s/14Kzw0J88WWSlnN/download'\n",
    "file_name = \"EXACT09.zip\"\n",
    "with open(file_name, \"wb\") as f:\n",
    "        response = requests.get(link, stream=True)\n",
    "        total_length = response.headers.get('content-length')\n",
    "        if total_length is None: # no content length header\n",
    "            f.write(response.content)\n",
    "        else:\n",
    "            dl = 0\n",
    "            total_length = int(total_length)\n",
    "            for data in tqdm_notebook(response.iter_content(chunk_size=4096), desc='Downloading data'):\n",
    "                dl += len(data)\n",
    "                f.write(data)\n",
    "with zipfile.ZipFile(file_name,\"r\") as zip_ref:\n",
    "    zip_ref.extractall(\"./\")\n",
    "os.remove('./EXACT09.zip')"
   ]
  },
  {
   "cell_type": "markdown",
   "metadata": {},
   "source": [
    "Convenience function to read list of files in a directory (also used in previous assignments)"
   ]
  },
  {
   "cell_type": "code",
   "execution_count": 2,
   "metadata": {
    "collapsed": true
   },
   "outputs": [],
   "source": [
    "def get_file_list(path,ext='',queue=''):\n",
    "    if ext != '': return [os.path.join(path,f) for f in os.listdir(path) if f.endswith(''+queue+'.'+ext+'')],  [f for f in os.listdir(path) if f.endswith(''+queue+'.'+ext+'')]    \n",
    "    else: return [os.path.join(path,f) for f in os.listdir(path)]"
   ]
  },
  {
   "cell_type": "markdown",
   "metadata": {},
   "source": [
    "Define paths to the data used in this assignment and extract list of filenames. Adjust the 'data_folder' path to match your local settings."
   ]
  },
  {
   "cell_type": "code",
   "execution_count": 3,
   "metadata": {
    "collapsed": true
   },
   "outputs": [
    {
     "name": "stdout",
     "output_type": "stream",
     "text": [
      "== Training images ==\n",
      "./assignment_3/training/images/scan17.dcm\n",
      "./assignment_3/training/images/scan07.dcm\n",
      "./assignment_3/training/images/scan01.dcm\n",
      "./assignment_3/training/images/scan05.dcm\n",
      "./assignment_3/training/images/scan12.dcm\n",
      "./assignment_3/training/images/scan18.dcm\n",
      "./assignment_3/training/images/scan04.dcm\n",
      "./assignment_3/training/images/scan10.dcm\n",
      "./assignment_3/training/images/scan08.dcm\n",
      "./assignment_3/training/images/scan15.dcm\n",
      "\n",
      "== Training annotations ==\n",
      "./assignment_3/training/annotations/scan12.mhd\n",
      "./assignment_3/training/annotations/scan18.mhd\n",
      "./assignment_3/training/annotations/scan05.mhd\n",
      "./assignment_3/training/annotations/scan17.mhd\n",
      "./assignment_3/training/annotations/scan10.mhd\n",
      "./assignment_3/training/annotations/scan01.mhd\n",
      "./assignment_3/training/annotations/scan04.mhd\n",
      "./assignment_3/training/annotations/scan08.mhd\n",
      "./assignment_3/training/annotations/scan07.mhd\n",
      "./assignment_3/training/annotations/scan15.mhd\n",
      "\n",
      "== Test images ==\n",
      "./assignment_3/test/images/1.0.000.000000.0.00.0.0000000000.0000.0000000000.000.dcm\n",
      "./assignment_3/test/images/1.2.840.113704.1.111.2296.1199810941.11.dcm\n",
      "./assignment_3/test/images/1.2.276.0.28.3.0.14.4.0.20090213134114792.dcm\n",
      "./assignment_3/test/images/1.2.840.113704.1.111.2296.1199810886.7.dcm\n",
      "./assignment_3/test/images/1.2.840.113704.1.111.2004.1131987870.11.dcm\n",
      "./assignment_3/test/images/2.16.840.1.113669.632.21.3825556854.538251028.390606191418956020.dcm\n",
      "./assignment_3/test/images/1.2.392.200036.9116.2.2.2.1762676169.1080882991.2256.dcm\n",
      "./assignment_3/test/images/1.3.12.2.1107.5.1.4.50585.4.0.7023259421321855.dcm\n",
      "./assignment_3/test/images/1.2.276.0.28.3.0.14.4.0.20090213134050413.dcm\n",
      "./assignment_3/test/images/1.2.840.113704.1.111.4400.1131982359.11.dcm\n"
     ]
    },
    {
     "data": {
      "text/plain": [
       "[None, None, None, None, None, None, None, None, None, None]"
      ]
     },
     "execution_count": 3,
     "metadata": {},
     "output_type": "execute_result"
    }
   ],
   "source": [
    "# path to the folder with the data you downloaded from SURFDrive\n",
    "data_folder = './assignment_3'\n",
    "\n",
    "# training images\n",
    "tra_img_dir = os.path.join(data_folder, 'training' , 'images')\n",
    "# training annotations\n",
    "tra_ann_dir = os.path.join(data_folder, 'training', 'annotations')\n",
    "# test images\n",
    "tes_img_dir = os.path.join(data_folder, 'test', 'images')\n",
    "\n",
    "tra_img_fls = get_file_list(tra_img_dir, 'dcm')[0] # dicom files\n",
    "tra_ann_fls = get_file_list(tra_ann_dir, 'mhd')[0] # ITK files\n",
    "tes_img_fls = get_file_list(tes_img_dir, 'dcm')[0] # dicom files\n",
    "\n",
    "print('== Training images ==')\n",
    "[print(tra_img_fl) for tra_img_fl in tra_img_fls]\n",
    "print('\\n== Training annotations ==')\n",
    "[print(tra_ann_fl) for tra_ann_fl in tra_ann_fls]\n",
    "print('\\n== Test images ==')\n",
    "[print(tes_img_fl) for tes_img_fl in tes_img_fls]"
   ]
  },
  {
   "cell_type": "markdown",
   "metadata": {},
   "source": [
    "Define the path for your output results. By default, it is a ```result``` folder in the directory of this notebook. Feel free to change it if you like. In this folder, you will have to look for your results when you want to visualize them."
   ]
  },
  {
   "cell_type": "code",
   "execution_count": 4,
   "metadata": {
    "collapsed": true
   },
   "outputs": [],
   "source": [
    "# set output folder (required to submit result to the grand-challenge)\n",
    "result_output_folder = os.path.join('./results')\n",
    "if not(os.path.exists(result_output_folder)):\n",
    "    os.makedirs(result_output_folder)"
   ]
  },
  {
   "cell_type": "markdown",
   "metadata": {},
   "source": [
    "Convenience function to load a file in ITK format and return both an ITK and a numpy version of it. Having both the ITK file format and the numpy format is handy, because ITK files contain information about the scan, like spacing (voxel size) etc. However, using numpy format is convenient when operations on matrixes have to be applied."
   ]
  },
  {
   "cell_type": "code",
   "execution_count": 5,
   "metadata": {
    "collapsed": true
   },
   "outputs": [],
   "source": [
    "def load_itk_file(file_name):\n",
    "    ''' load itk image file. '''\n",
    "    img_itk = sitk.ReadImage(file_name)\n",
    "    img_np = sitk.GetArrayFromImage(img_itk)\n",
    "    return img_itk, img_np"
   ]
  },
  {
   "cell_type": "markdown",
   "metadata": {},
   "source": [
    "Convenience function to save files in ITK format. Although other formats are available in ITK, in this assignment we want to use ```mhd``` files, which is the format supported by the grand-challenge evaluation script. Note that the image parameters *spacing*, *origin* and *direction* are used in the function."
   ]
  },
  {
   "cell_type": "code",
   "execution_count": 6,
   "metadata": {
    "collapsed": true
   },
   "outputs": [],
   "source": [
    "def save_itk_file(img, filename, img_params, use_compression=True):\n",
    "    ''' Save input image 'img' in ITK format mhd. \n",
    "        It requires a filename to save the input image, and\n",
    "        a set of ITK parameters, like spacing, origin and direction\n",
    "        to properly store the image. If the input image is not\n",
    "        in numpy format, img_params are ignored.\n",
    "    '''\n",
    "    if not filename.endswith('mhd'):\n",
    "        print ('filename should have extension .mhd!')\n",
    "        return False\n",
    "    # check if the input variable is a numpy array\n",
    "    if type(img).__module__ == np.__name__:\n",
    "        itk_img = sitk.GetImageFromArray(img) # convert it\n",
    "        itk_img.SetSpacing(img_params['spacing'])\n",
    "        itk_img.SetOrigin(img_params['origin'])\n",
    "        itk_img.SetDirection(img_params['direction'])\n",
    "    else:\n",
    "        itk_img = img\n",
    "    w = sitk.ImageFileWriter()\n",
    "    w.SetUseCompression(use_compression)\n",
    "    w.SetFileName(filename)\n",
    "    w.Execute(itk_img)\n",
    "    return True"
   ]
  },
  {
   "cell_type": "markdown",
   "metadata": {},
   "source": [
    "## Visualization with MeVisLab \n",
    "\n",
    "A nice way to visualize images and annotations is by using MeVisLab. You can download MeVisLab for your operating system (it supports Windows, Linux and Mac OS) from this link: http://www.mevislab.de/download/.\n",
    "MeVisLab comes with the ITK library installed, which you can use to load both the CT scan, the reference standard and your segmentation result, and inspect it by scrolling the scan in 2D or in 3D. These are two examples of how you can visualize your segmentation result in MeVisLab:\n",
    "\n",
    "<img src=\"./figures/mevislab_overlay_example.png\" alt=\"MeVisLab overlay\">\n",
    "\n",
    "To scroll up and down in the 2D visualization, just use the weel of your mouse, or press it to do a quick scrolling.\n",
    "To zoom in and out in the 3D view, use the combination of keys \"CTRL + central mouse button\".\n",
    "You will find a file called ```network_visualization.mlab``` in the folder of this assignment, open it to load the network in the example and use it to visualize your results.\n",
    "\n",
    "Try to open a few training cases and overlay the provided airway annotations. This will be useful to get familiar with the kind of images you will have to process and with the appearance of airways in CT scans.\n",
    "\n",
    "#### MeVisLab tips & tricks\n",
    "* In MeVisLab, you can change the window level (look-up-table) used to visualize image intensities by clicking the right button of your mouse and moving the cursor around. You will see that the gray levels change. This may be useful to get an optimal visualization of the lungs and to visualize airways.\n",
    "* In the network provided, we included a module called ```OrthoSwapFlip```. Double click on the module and check the options available. One option is called *View Direction*. Change the value in the menu and check how the view changes in the window.\n",
    "* You can switch from voxel coordinates to world coordinates in the View2D module by doing: \n",
    "   \n",
    "   *click on the right button > Show Window > Settings > Appearance [TAB] > Current Pos. in > Voxel/World.*\n",
    "\n",
    "\n",
    "* Now we are using MeVisLab to visualize the provided manual annotations overlayed on training images. You can imagine that later the same network can be used to inspect test cases, and to overlay the segmentation results provided by your algorithm. "
   ]
  },
  {
   "cell_type": "markdown",
   "metadata": {},
   "source": [
    "### About CT scans\n",
    "Typically, CT scans are acquired from the bottom part of the body to the top part, and during the acquisition, slices are stored.\n",
    "For this reason, the slice with index zero in the CT scan actually corresponds to the last slice, if you see the scan from top to bottom. This also means that the lung that you see on the left is actually the right lung, and the other way around. It is important to keep these things in mind while developing algorihtms for medical image analysis!"
   ]
  },
  {
   "cell_type": "markdown",
   "metadata": {},
   "source": [
    "## Task 1. Airway segmentation with explosion control"
   ]
  },
  {
   "cell_type": "markdown",
   "metadata": {},
   "source": [
    "### Extract airway volume statistics"
   ]
  },
  {
   "cell_type": "markdown",
   "metadata": {},
   "source": [
    "One of the problems of airway segmentation is that airways can easily leak into the lung parenchyma, since the intensity of the parenchyma is also low, and airway walls are sometimes thin. For this reason, during the segmentation procedure, knowing what is the **volume of airway** that we can expect can help prevent explosion of airway segmentation into the parehcnyma. In order to do that, we can get statistics on airway volume from the training set provided with this assignment.\n",
    "\n",
    "Implement a function that computes the mean volume, in **mm<sup>3</sup>**, of an airway tree using data from the training set. Use all the scans in the training set to compute the mean volume.\n",
    "\n",
    "**NOTE:** You can get the *spacing* information from ITK images using the function ```GetSpacing()``` of the image object itself."
   ]
  },
  {
   "cell_type": "code",
   "execution_count": 7,
   "metadata": {
    "collapsed": true
   },
   "outputs": [],
   "source": [
    "# function to compute the mean volume\n",
    "def get_mean_volume_mm3(file_lst):\n",
    "    ''' \n",
    "        Compute the mean volume (in mm^3) of airway tree from a given set.\n",
    "        The input is a list of ITK files of annotated airway trees.\n",
    "    '''\n",
    "    volume_mm3 = []\n",
    "    for filename in file_lst:\n",
    "        print (filename)\n",
    "        annotation_itk, annotation_np = load_itk_file(filename)\n",
    "        volume_pixel = np.prod(annotation_itk.GetSpacing())\n",
    "        volume_img = np.sum((annotation_np[annotation_np==1])) * volume_pixel\n",
    "        volume_mm3.append(volume_img)\n",
    "        \n",
    "#         print(\"Image Shape\", annotation_np.shape)\n",
    "#         print(\"Get total volume\", np.prod(annotation_np.shape * np.array(annotation_itk.GetSpacing())))\n",
    "#         print(\"Volume Trachea\", volume_img)\n",
    "    print(\"Max \", max(volume_mm3))\n",
    "    print(\"Min \", min(volume_mm3))\n",
    "    print(\"STD\", np.std(volume_mm3))\n",
    "    return np.mean(volume_mm3)"
   ]
  },
  {
   "cell_type": "markdown",
   "metadata": {},
   "source": [
    "#### Question\n",
    "We asked to compute the **mean** volume from the training set. Do you think that other statistics would be useful to implement an *explosion control* algorithm? Why?"
   ]
  },
  {
   "cell_type": "markdown",
   "metadata": {},
   "source": [
    "*Your answer here.* We can compute max, min, std. And threshold our algorithm to mean + 3 std or something so that it is more flexible than having a hard threshold."
   ]
  },
  {
   "cell_type": "markdown",
   "metadata": {},
   "source": [
    "**NOTE.** If you think that other statistics are needed, feel free to expand the ```get_mean_volume_mm3()``` function to include more statistics, or to implement more functions.\n",
    "\n",
    "Now we can compute (at least) the mean volume using the function we have defined."
   ]
  },
  {
   "cell_type": "code",
   "execution_count": 8,
   "metadata": {
    "collapsed": true
   },
   "outputs": [
    {
     "name": "stdout",
     "output_type": "stream",
     "text": [
      "./assignment_3/training/annotations/scan12.mhd\n",
      "./assignment_3/training/annotations/scan18.mhd\n",
      "./assignment_3/training/annotations/scan05.mhd\n",
      "./assignment_3/training/annotations/scan17.mhd\n",
      "./assignment_3/training/annotations/scan10.mhd\n",
      "./assignment_3/training/annotations/scan01.mhd\n",
      "./assignment_3/training/annotations/scan04.mhd\n",
      "./assignment_3/training/annotations/scan08.mhd\n",
      "./assignment_3/training/annotations/scan07.mhd\n",
      "./assignment_3/training/annotations/scan15.mhd\n",
      "Max  43400.87890625\n",
      "Min  14901.290151894202\n",
      "STD 8395.684189111682\n",
      "Mean volume = 23066.43634815252 mm^3\n"
     ]
    }
   ],
   "source": [
    "# extract list of airway annotation files\n",
    "tra_ann_list = get_file_list(tra_ann_dir, 'mhd')[0]\n",
    "\n",
    "# compute the mean airway volume using the function you have implemented\n",
    "mean_volume_mm3 = get_mean_volume_mm3(tra_ann_list)\n",
    "print('Mean volume = {} mm^3'.format(mean_volume_mm3))"
   ]
  },
  {
   "cell_type": "markdown",
   "metadata": {},
   "source": [
    "Now that we have computed the mean volume, we can use it to implement some kind of explosion control in our airway segmentation algorithm. We have to segment airways in all test cases. Therefore, for each case, the tasks are the following:\n",
    "\n",
    "* load the scan\n",
    "* pick a seed point in the trachea\n",
    "* do connected components segmentation, based on threshold(s)\n",
    "* use the seed point to select the connected component related to airways\n",
    "* in your algorithm, use the learned mean volume to pick the optimal threshold that prevents (limits) leakage\n",
    "\n",
    "#### About trachea seed point\n",
    "In order to develop your algorihtm, you will need the coordinates of a seed point placed in the trachea.\n",
    "This is related to what we developed in the first assignment!\n",
    "However, due to noise in CT scans, good seed points are typically defined close to the **carina point**. \n",
    "The seed point produced by the algorithm that you developed in the first assignment may give a different location, since it was not optimized for that (we simply did not ask for that).\n",
    "\n",
    "To solve this problem, we manually picked seed points for the test cases of this assignment, which you can find in the dictionary defined in the next cell."
   ]
  },
  {
   "cell_type": "code",
   "execution_count": 9,
   "metadata": {
    "collapsed": true
   },
   "outputs": [],
   "source": [
    "# seed points dictionary (z, y, x)\n",
    "seed_points = {}\n",
    "seed_points['1.0.000.000000.0.00.0.0000000000.0000.0000000000.000'] = (327, 249, 245)\n",
    "seed_points['1.2.276.0.28.3.0.14.4.0.20090213134050413'] = (258, 263, 251)\n",
    "seed_points['1.2.276.0.28.3.0.14.4.0.20090213134114792'] = (251, 260, 248)\n",
    "seed_points['1.2.392.200036.9116.2.2.2.1762676169.1080882991.2256'] = (303, 286, 249)\n",
    "seed_points['1.2.840.113704.1.111.2004.1131987870.11'] = (202, 235, 251)\n",
    "seed_points['1.2.840.113704.1.111.2296.1199810886.7'] = (358, 331, 247)\n",
    "seed_points['1.2.840.113704.1.111.2296.1199810941.11'] = (336, 335, 248)\n",
    "seed_points['1.2.840.113704.1.111.4400.1131982359.11'] = (227, 200, 252)\n",
    "seed_points['1.3.12.2.1107.5.1.4.50585.4.0.7023259421321855'] = (287, 273, 258)\n",
    "seed_points['2.16.840.1.113669.632.21.3825556854.538251028.390606191418956020'] = (180, 257, 238)"
   ]
  },
  {
   "cell_type": "markdown",
   "metadata": {},
   "source": [
    "**NOTE.** In the training set, a region growing algorithm based on seed points was used to build the reference segmentation. This means that the volume of trachea above the seed point is not considered in the computation of the mean volume. You will have to take this into account when developing the explosion control part of your algorithm! "
   ]
  },
  {
   "cell_type": "markdown",
   "metadata": {},
   "source": [
    "#### Question\n",
    "Are the seed-point coordinates given in voxel-coordinates or world-coordinates? What is the difference between world-coordinates and voxel-coordinates?"
   ]
  },
  {
   "cell_type": "markdown",
   "metadata": {},
   "source": [
    "*Your answer here.* The coordinates are in voxel-coordinates. Voxel coordinates are the coordinates of each voxel, to convert it to real world coordinates we will need to multiply it with voxel size."
   ]
  },
  {
   "cell_type": "markdown",
   "metadata": {},
   "source": [
    "### Auxiliary functions"
   ]
  },
  {
   "cell_type": "markdown",
   "metadata": {},
   "source": [
    "In the following cells, we propose templates of code that you can use to implement functions that will be necessary to run the main airway segmentation algorithm, with explosion control. The idea is that you implement simple functions that can do specific tasks, and then these functions will be used in the last cells of the notebook to define the main function for airway segmentation, and to run the main script that segments airways in the test set. Let's get started!"
   ]
  },
  {
   "cell_type": "markdown",
   "metadata": {},
   "source": [
    "Implement a function to get parameters from the image in ITK format. The parameters we need to extract are:\n",
    "  * origin\n",
    "  * spacing\n",
    "  * direction"
   ]
  },
  {
   "cell_type": "code",
   "execution_count": 10,
   "metadata": {
    "collapsed": true
   },
   "outputs": [],
   "source": [
    "def get_scan_params(img_itk):\n",
    "    # >>> YOUR CODE HERE, Replace 'None's with your code <<<\n",
    "    img_params = {}\n",
    "    img_params['origin'] = img_itk.GetOrigin()\n",
    "    img_params['spacing'] = img_itk.GetSpacing()\n",
    "    img_params['direction'] = img_itk.GetDirection()\n",
    "    return img_params"
   ]
  },
  {
   "cell_type": "markdown",
   "metadata": {},
   "source": [
    "#### Question\n",
    "What is the data format of the *spacing* object, and what is the meaning of its values?"
   ]
  },
  {
   "cell_type": "markdown",
   "metadata": {},
   "source": [
    "*Your answer here.* The size of each voxel in x, y and z directions."
   ]
  },
  {
   "cell_type": "markdown",
   "metadata": {},
   "source": [
    "Implement a function that computes the volume of a voxel in mm<sup>3</sup> given the spacing vector"
   ]
  },
  {
   "cell_type": "code",
   "execution_count": 11,
   "metadata": {
    "collapsed": true
   },
   "outputs": [],
   "source": [
    "def get_voxel_volume_mm3(spacing):\n",
    "    # >>> YOUR CODE HERE, Replace 'None's with your code <<<\n",
    "    voxel_volume_mm3 = np.prod(spacing)\n",
    "    return voxel_volume_mm3"
   ]
  },
  {
   "cell_type": "markdown",
   "metadata": {},
   "source": [
    "Based on the result of the connected component algorithm, we will extract the segmentation of airways as the connected component that contains the seed point provided. Since images can be very noisy, the seed point may not belong to any connected component, but still very close to it. For this reason, given a seed point, we will have to check for labels available in its neighborhood, and pick the one of the closest component. \n",
    "\n",
    "The following function implements this idea by considering voxels of connected components in a cube of size (2d+1)x(2d+1)x(2d+1) centered on the seed point. By default, the size of the cube is 21 voxels, but you can tune this parameter and see if this affects your results. We still don't have the volume of connected components, but we will extract it later in the main script. For the time being, think of it as a 3D matrix in numpy, where each connected structure in 3D is assigned a different label (a different number >0)."
   ]
  },
  {
   "cell_type": "code",
   "execution_count": 12,
   "metadata": {
    "collapsed": true
   },
   "outputs": [],
   "source": [
    "def get_seed_point_label(conn_comps, seed_point, d=10):\n",
    "    ''' \n",
    "        Detect the closest label in a (2d+1) x (2d+1) x (2d+1) cube \n",
    "        centered on the seed point.\n",
    "    '''\n",
    "    distances = []\n",
    "    labels = []\n",
    "    for dx in range(-d, d):\n",
    "        for dy in range(-d, d):\n",
    "            for dz in range(-d, d):\n",
    "                label = conn_comps[seed_point[0] + dz,\n",
    "                                   seed_point[1] + dy,\n",
    "                                   seed_point[2] + dx]\n",
    "                if label != 0:\n",
    "                    labels.append(label)\n",
    "                    distances.append(np.sqrt(float(dx)**2 + float(dy)**2 + float(dz)**2.))\n",
    "    if len(labels) == 0:\n",
    "        return 0\n",
    "    else:\n",
    "        return labels[np.argmin(np.array(distances))]"
   ]
  },
  {
   "cell_type": "code",
   "execution_count": 13,
   "metadata": {},
   "outputs": [
    {
     "name": "stdout",
     "output_type": "stream",
     "text": [
      "{'direction': (1.0, 0.0, 0.0, 0.0, 1.0, 0.0, 0.0, 0.0, 1.0), 'origin': (-192.5, -59.5, -333.5), 'spacing': (0.708984375, 0.708984375, 0.7000120000000043)}\n"
     ]
    }
   ],
   "source": [
    "tra_img_list = get_file_list(tra_img_dir, 'dcm')[0]\n",
    "print(get_scan_params(load_itk_file(tra_img_list[0])[0]))"
   ]
  },
  {
   "cell_type": "markdown",
   "metadata": {},
   "source": [
    "### Main airway segmentation function\n",
    "\n",
    "Implement a function that performs airway segmentation of a given CT scan in numpy array format based on connected components. The function needs at least the following inputs:\n",
    "\n",
    "* ```img_np```: CT scan in numpy array format\n",
    "* ```seed_point```: coordinates of the seed point in 3D, oriented as (z, y, x)\n",
    "* ```thresholds```: list of threshold(s) you want to apply to extract a binarized version of the image, to use as input for the connected component algorithm\n",
    "\n",
    "In the development of this function, consider that:\n",
    "* each threshold will generate a certain volume, which we will have to compare with the mean volume learned from the training set, to implement explosion control; keep track of the volumes in a list\n",
    "* the z-coordinate of the seed point defines the last slice to consider in your volume, because you want to discard a part of the trachea and make your volume comparable with the one learned from the training set.\n",
    "\n",
    "We have defined the structure of this (long) function, and already implemented some of its parts. Fill in the missing lines of code. This function will be used later in the main script to run airway segmentation on the entire test set."
   ]
  },
  {
   "cell_type": "code",
   "execution_count": 14,
   "metadata": {},
   "outputs": [],
   "source": [
    "# from numba import jit"
   ]
  },
  {
   "cell_type": "code",
   "execution_count": 198,
   "metadata": {},
   "outputs": [],
   "source": [
    "# def check_neighbors(conn_comps, point):\n",
    "#     labels = np.zeros((3, 3, 3))\n",
    "#     for dx in range(3):\n",
    "#         for dy in range(3):\n",
    "#             for dz in range(3):\n",
    "#                 # Substracting 1 from indices because we are using range(3)\n",
    "#                 labels[dx, dy, dz] = conn_comps[point[0] + dx - 1, point[1] + dy - 1, point[2] + dz - 1]\n",
    "\n",
    "#     try:\n",
    "#         return_value = min(labels[labels != 0])\n",
    "#     except:\n",
    "#         return_value = None\n",
    "    \n",
    "#     return return_value\n",
    "        \n",
    "                    \n",
    "# @jit\n",
    "# def connected_comps(binary_img):\n",
    "#     curr_label = 0\n",
    "#     conn_comps = np.zeros(binary_img.shape, dtype=int)\n",
    "#     n_rows, n_cols, n_slice = binary_img.shape\n",
    "#     for row in range(1, n_rows-1):\n",
    "#         for col in range(1, n_cols-1):\n",
    "#             for sl in range(1, n_slice-1):\n",
    "#                 # If the current point is 1, then check for neighbor and if there is a neighbour\n",
    "#                 # assign it's label to current point.\n",
    "#                 if binary_img[row, col, sl] == 1:\n",
    "#                     neighbor_label = check_neighbors(conn_comps, (row, col, sl))\n",
    "#                     if neighbor_label is None:\n",
    "#                         curr_label += 1\n",
    "#                         conn_comps[row, col, sl] = curr_label\n",
    "#                     else:\n",
    "#                         conn_comps[row, col, sl] = neighbor_label\n",
    "#     return conn_comps\n",
    "    "
   ]
  },
  {
   "cell_type": "code",
   "execution_count": 166,
   "metadata": {},
   "outputs": [],
   "source": [
    "# dummy_array = np.array([\n",
    "#                        [[0, 0, 0, 0, 0],\n",
    "#                         [0, 0, 0, 0, 0],\n",
    "#                         [0, 0, 0, 0, 0],\n",
    "#                         [0, 0, 0, 0, 0],\n",
    "#                         [0, 0, 0, 0, 0]],\n",
    "#                        [[0, 0, 0, 0, 0],\n",
    "#                         [0, 1, 1, 1, 0],\n",
    "#                         [0, 1, 1, 1, 0],\n",
    "#                         [0, 1, 1, 1, 0],\n",
    "#                         [0, 0, 0, 0, 0]],\n",
    "#                        [[0, 0, 0, 0, 0],\n",
    "#                         [0, 0, 0, 0, 0],\n",
    "#                         [0, 0, 0, 0, 0],\n",
    "#                         [0, 0, 0, 0, 0],\n",
    "#                         [0, 0, 0, 0, 0]],\n",
    "#                        [[0, 0, 0, 0, 0],\n",
    "#                         [0, 1, 1, 1, 0],\n",
    "#                         [0, 1, 1, 1, 0],\n",
    "#                         [0, 1, 1, 1, 0],\n",
    "#                         [0, 0, 0, 0, 0]],\n",
    "#                        [[0, 0, 0, 0, 0],\n",
    "#                         [0, 0, 0, 0, 0],\n",
    "#                         [0, 0, 0, 0, 0],\n",
    "#                         [0, 0, 0, 0, 0],\n",
    "#                         [0, 0, 0, 0, 0]]])"
   ]
  },
  {
   "cell_type": "code",
   "execution_count": 239,
   "metadata": {},
   "outputs": [
    {
     "name": "stdout",
     "output_type": "stream",
     "text": [
      "(423, 512, 512)\n"
     ]
    },
    {
     "data": {
      "text/plain": [
       "<matplotlib.image.AxesImage at 0x7fd9a99e1048>"
      ]
     },
     "execution_count": 239,
     "metadata": {},
     "output_type": "execute_result"
    },
    {
     "data": {
      "image/png": "[encoded data removed]",
      "text/plain": [
       "<matplotlib.figure.Figure at 0x7fd9a9a15390>"
      ]
     },
     "metadata": {},
     "output_type": "display_data"
    }
   ],
   "source": [
    "# # volument\n",
    "\n",
    "# tra_img_list = get_file_list(tra_img_dir, 'dcm')[0]\n",
    "# img_np = load_itk_file(tra_img_list[5])[1]\n",
    "\n",
    "# ann_img_list = get_file_list(tra_ann_dir, 'mhd')[0]\n",
    "# ann_np = load_itk_file(ann_img_list[5])[1]\n",
    "\n",
    "# print(img_np.shape)\n",
    "# threshold = -850\n",
    "# img_binary = img_np.copy()\n",
    "# img_binary[img_binary >= threshold] = 1\n",
    "# img_binary[img_binary < threshold] = 0\n",
    "\n",
    "# %matplotlib inline\n",
    "# import matplotlib.pyplot as plt\n",
    "# plt.figure(figsize=(10, 12))\n",
    "# plt.subplot(3, 1, 1)\n",
    "# plt.imshow(img_binary[:, :, 314], cmap='Greys')\n",
    "# plt.subplot(3, 1, 2)\n",
    "# plt.imshow(img_np[:, :, 314], cmap='Greys')\n",
    "# # plt.subplot(3, 1, 3)\n",
    "# # plt.imshow(ann_np[:, :, 314])\n",
    "\n",
    "# # plt.hist(img_np[:, :, 314].flatten(), bins=100)"
   ]
  },
  {
   "cell_type": "code",
   "execution_count": 218,
   "metadata": {},
   "outputs": [
    {
     "data": {
      "text/plain": [
       "(['./assignment_3/training/images/scan17.dcm',\n",
       "  './assignment_3/training/images/scan07.dcm',\n",
       "  './assignment_3/training/images/scan01.dcm',\n",
       "  './assignment_3/training/images/scan05.dcm',\n",
       "  './assignment_3/training/images/scan12.dcm',\n",
       "  './assignment_3/training/images/scan18.dcm',\n",
       "  './assignment_3/training/images/scan04.dcm',\n",
       "  './assignment_3/training/images/scan10.dcm',\n",
       "  './assignment_3/training/images/scan08.dcm',\n",
       "  './assignment_3/training/images/scan15.dcm'],\n",
       " ['scan17.dcm',\n",
       "  'scan07.dcm',\n",
       "  'scan01.dcm',\n",
       "  'scan05.dcm',\n",
       "  'scan12.dcm',\n",
       "  'scan18.dcm',\n",
       "  'scan04.dcm',\n",
       "  'scan10.dcm',\n",
       "  'scan08.dcm',\n",
       "  'scan15.dcm'])"
      ]
     },
     "execution_count": 218,
     "metadata": {},
     "output_type": "execute_result"
    }
   ],
   "source": [
    "# # conn_comp = connected_comp(img_binary[:, :, 148:152])\n",
    "# # print(np.unique(conn_comp))\n",
    "# get_file_list(tra_img_dir, 'dcm')"
   ]
  },
  {
   "cell_type": "code",
   "execution_count": 187,
   "metadata": {},
   "outputs": [],
   "source": [
    "# from functools import reduce\n",
    "# from tqdm import tqdm_notebook\n",
    "\n",
    "\n",
    "# def neighbor_labels(conn_comps, point):\n",
    "#     \"\"\"\n",
    "#     Returns a set of all neighbouring labels for the given point.\n",
    "#     \"\"\"\n",
    "#     labels = np.zeros((3, 3, 3), dtype=int)\n",
    "#     for dx in range(3):\n",
    "#         for dy in range(3):\n",
    "#             for dz in range(3):\n",
    "#                 # Substracting 1 from indices because we are using range(3)\n",
    "#                 labels[dx, dy, dz] = conn_comps[point[0] + dx - 1, point[1] + dy - 1, point[2] + dz - 1]\n",
    "\n",
    "#     try:\n",
    "#         return_value = set(labels[labels != 0])\n",
    "#     except:\n",
    "#         return_value = None\n",
    "#     return return_value\n",
    "        \n",
    "                    \n",
    "# @jit\n",
    "# def connected_airway_comp(conn_comps):\n",
    "#     \"\"\"\n",
    "#     Creates a lookup dict for connected labels from connected components array.\n",
    "#     \"\"\"\n",
    "#     lookup_dict = {i: set() for i in range(1, np.max(conn_comps)+1)}\n",
    "    \n",
    "#     n_rows, n_cols, n_slice = conn_comps.shape\n",
    "#     for row in tqdm_notebook(range(1, n_rows-1)):\n",
    "#         for col in range(1, n_cols-1):\n",
    "#             for sl in range(1, n_slice-1):\n",
    "#                 # If the current point is 1, then check for neighbor and if there is a neighbour\n",
    "#                 # assign it's label to current point.\n",
    "#                 current_label = conn_comps[row, col, sl]\n",
    "#                 if current_label > 0:\n",
    "#                     labels = neighbor_labels(conn_comps, (row, col, sl))\n",
    "#                     if labels is not None:\n",
    "#                         lookup_dict[current_label] = lookup_dict[current_label].union(labels)\n",
    "#     return lookup_dict\n",
    "\n",
    "\n",
    "# def connected_comp_lookup(lookup_dict):\n",
    "#     \"\"\"\n",
    "#     Creates the groups of connected labels from lookup dict. \n",
    "#     \"\"\"\n",
    "#     for k, v in lookup_dict.items():\n",
    "#         temp = reduce(lambda x, y: x.union(y), [lookup_dict[i] for i in lookup_dict[k]])\n",
    "#         lookup_dict[k] = lookup_dict[k].union(temp)\n",
    "#     return lookup_dict"
   ]
  },
  {
   "cell_type": "code",
   "execution_count": 15,
   "metadata": {},
   "outputs": [],
   "source": [
    "# lookup_dict = {1: {2}, 2: {1}, 3: {4, 5, 7}, 4:{3, 6}, 5:{3,6}, 6:{4, 5}, 7:{3}}\n",
    "# print(connected_comp_lookup(lookup_dict))\n",
    "\n",
    "# a = np.array([1, 2, 3, 4])\n",
    "# a[np.isin(a, [3, 4])] = 1\n",
    "# print(a)"
   ]
  },
  {
   "cell_type": "code",
   "execution_count": null,
   "metadata": {},
   "outputs": [],
   "source": []
  },
  {
   "cell_type": "code",
   "execution_count": 240,
   "metadata": {
    "collapsed": true
   },
   "outputs": [],
   "source": [
    "def get_airway_segmentation(img_np, seed_point, thresholds, voxel_volume):\n",
    "    ''' Airway segmentation in CT scan based on connected components and explosion control.'''\n",
    "    \n",
    "    # initialize list of volumes\n",
    "    volumes = []\n",
    "    \n",
    "    # try all thresholds and compute airway volume for each of them\n",
    "    for threshold in thresholds:\n",
    "        print('-----------------------------------------')\n",
    "        print('processing threshold {}'.format(threshold))\n",
    "\n",
    "        # extract a binarized version of the image by applying the threshold(s)\n",
    "        img_binary = img_np.copy()\n",
    "        img_binary[img_binary > threshold] = 1\n",
    "        img_binary[img_binary < threshold] = 0\n",
    "\n",
    "        # run connected-components algorithm on the binary image and label each region,\n",
    "        # you can use one of the functions that we have seen in the last lecture\n",
    "        # or that we used in the first assignment\n",
    "        conn_comps = connected_comps(img_binary)\n",
    "     \n",
    "        print('-> found {} connected components'.format(np.max(conn_comps)))\n",
    "\n",
    "        # get the label of the seed point \n",
    "        seed_point_label = get_seed_point_label(conn_comps, seed_point)\n",
    "        import pdb; pdb.set_trace()\n",
    "        print('-> seed point label = {}'.format(seed_point_label))\n",
    "\n",
    "        if seed_point_label != 0:\n",
    "            \n",
    "            # extract airways as the connected component that has the label of the seed point\n",
    "            lookup_dict = connected_airway_comp(conn_comps)\n",
    "            print(lookup_dict)\n",
    "            airways = np.zeros(img_binary.shape, dtype=int)\n",
    "            airways[np.isin(conn_comps, (connected_comp_lookup(lookup_dict)[seed_point_label]))] = 1\n",
    "            print(airways)\n",
    "\n",
    "            # remove voxels in the upper part of the trachea, to make the volume\n",
    "            # compatible with what measured in the training set\n",
    "            airways[seed_point[0]:] = 0 # CT scans are acquired from bottom to top\n",
    "\n",
    "            # compute the airway volume in mm^3\n",
    "            airway_volume_mm3 = voxel_volume * np.sum(airways)\n",
    "\n",
    "            # add the computed volume to the list\n",
    "            volumes.append(airway_volume_mm3)\n",
    "            print('--> airway volume = {} mm^3'.format(airway_volume_mm3))\n",
    "        else:\n",
    "            volumes.append(np.inf)\n",
    "            print('--> airway volume = 0 mm^3')\n",
    "\n",
    "    # visualize volume trend\n",
    "    plt.plot(thresholds, volumes)\n",
    "    plt.xlabel('HU')\n",
    "    plt.ylabel('mm^3')\n",
    "    plt.plot(thresholds, mean_volume_mm3*np.ones((len(thresholds, ))), '--r')\n",
    "    plt.show()\n",
    "\n",
    "    # find optimal threshold, which minimizes the \"explosion\" of segmentation in the parenchyma\n",
    "    optimal_threshold = -800\n",
    "\n",
    "    print('optimal threshold {} found'.format(optimal_threshold))\n",
    "\n",
    "    # Apply the optimal threshold to the scan to get airway segmentation.\n",
    "    # Basically, you have to repeat steps that you have implemented in \n",
    "    # the previous 'for loop' already, but this time you don't need to remove voxels \n",
    "    # in the upper part of the trachea, the evaluation algorithm will handle this\n",
    "    print('extracting airways...')\n",
    "    img_binary = None\n",
    "    conn_comps = None\n",
    "    seed_point_label = None\n",
    "    airways_segmentation = airways\n",
    "    \n",
    "    return airways_segmentation"
   ]
  },
  {
   "cell_type": "code",
   "execution_count": null,
   "metadata": {},
   "outputs": [],
   "source": []
  },
  {
   "cell_type": "markdown",
   "metadata": {},
   "source": [
    "#### Question\n",
    "What kind of connectivity did you choose for the connected component algorithm and why?"
   ]
  },
  {
   "cell_type": "markdown",
   "metadata": {},
   "source": [
    "*Your answer here.* We have used 8-connectivity. <b> Finish this when have tried other connectivity </b>\n",
    "\n",
    "????????????????????????????????????????????????????????????????????????????????????????????????????????????????????????????????????????????????????????????????????????????????"
   ]
  },
  {
   "cell_type": "markdown",
   "metadata": {},
   "source": [
    "### Main script to run airway segmentation on the test set\n",
    "Now that you have implemented all the functions necessary to extract airways from a given CT scan, you can run your algorithm on the entire test set and submit the results.\n",
    "But first you have to define the threshold (or the thresholds) you want to use in the connected component algorithm. Since the test script expects a list of values, even if you want to use only one value, put it in a list. "
   ]
  },
  {
   "cell_type": "code",
   "execution_count": 241,
   "metadata": {
    "collapsed": true
   },
   "outputs": [],
   "source": [
    "# threshold(s) to consider\n",
    "thresholds = [-800, -850]"
   ]
  },
  {
   "cell_type": "markdown",
   "metadata": {},
   "source": [
    "#### Question\n",
    "What is the theoretically expected intensity value (in Hounsfield unit) for voxel in the airway lumen? What is a plausible range of values that you can test for airway segmentation?"
   ]
  },
  {
   "cell_type": "markdown",
   "metadata": {},
   "source": [
    "*Your answer here.* Based on 'Extraction  of  Samples  From  Airway  and  Vessel  Trees  In  3D  Lung  CT Based  On  A  Multi-Scale  Principal  Curve  Tracing  Algorithm' article by S. You et al. The voxels with intensities below -800HU are loosely segmented as air filled regions. As both the airway lumen and lungs are filled with air, background noise inside the lung is often misclassified. The blood and soft tissue have intensities around 50-200HU.  The  voxels  with  intensities  above  -500  HU  are classified as the foreground."
   ]
  },
  {
   "cell_type": "code",
   "execution_count": null,
   "metadata": {
    "collapsed": true,
    "scrolled": true
   },
   "outputs": [],
   "source": [
    "# extract and save airway segmentation from test cases\n",
    "for test_img_filename in tes_img_fls:\n",
    "\n",
    "    # extract scan id from filename, will be used to save the result image\n",
    "    scan_id = os.path.splitext(ntpath.basename(test_img_filename))[0]\n",
    "    print('processing scan id {}'.format(scan_id))\n",
    "\n",
    "    # load ITK image in ITK and numpy format\n",
    "    img_itk, img_itk_np = load_itk_file(test_img_filename) \n",
    "    print('scan loaded with size {}'.format(img_itk_np.shape))                     \n",
    "\n",
    "    # extract scan parameters\n",
    "    img_params = get_scan_params(img_itk)\n",
    "\n",
    "    # get voxel volume\n",
    "    voxel_volume_mm3 = get_voxel_volume_mm3(img_params['spacing'])   \n",
    "\n",
    "    # get seed point coordinates from the defined dictionary\n",
    "    seed_point = seed_points[scan_id]\n",
    "\n",
    "    # visualize slice with seed point\n",
    "    plt.imshow(img_itk_np[seed_point[0]].squeeze(), cmap='gray')\n",
    "    plt.scatter(seed_point[2], seed_point[1], c='r')\n",
    "    plt.show()\n",
    "\n",
    "    # airway segmentation using the function that you have implemented\n",
    "    airways = get_airway_segmentation(img_itk_np, seed_point, thresholds, voxel_volume_mm3)\n",
    "\n",
    "    # save to disk\n",
    "    print('saving segmentation result to disk')\n",
    "    outputfile = os.path.join(result_output_folder, scan_id+'.mhd')\n",
    "    save_itk_file(airways, outputfile, img_params)\n",
    "    print('done!')\n"
   ]
  },
  {
   "cell_type": "markdown",
   "metadata": {},
   "source": [
    "One of the output produced by the functions that we have prepared is a plot of the trend of airway volume as a function of the threshold(s) that you have picked. Based on this plot, you may think of narrowing the search interval for your thresholds, and try to further fine-tune the threshold (and other parameters, like the connectivity, etc.) and try to improve the results based on plain connected components segmentation."
   ]
  },
  {
   "cell_type": "markdown",
   "metadata": {},
   "source": [
    "### Submit your results\n",
    "The airway segmentation results for the test set have been stored in the result folder that you defined at the beginning of the notebook (```result_output_folder```).\n",
    "\n",
    "Before submitting the results, you may want to have a look at your results by using the MeVisLab network provided. You can use the network to load the test scan and to show the segmentation results in overlay. This can give you a feeling what to expect from the evaluation, and can also give some feedback how to improve your method, apart from the numerical results that you will get.\n",
    "\n",
    "Executing the cell below will create a zip-file of the images with the segmentation results."
   ]
  },
  {
   "cell_type": "code",
   "execution_count": null,
   "metadata": {
    "collapsed": true
   },
   "outputs": [],
   "source": [
    "shutil.make_archive('results', 'zip', result_output_folder)"
   ]
  },
  {
   "cell_type": "markdown",
   "metadata": {},
   "source": [
    "You can now download this zipfile with this link: [results.zip](results.zip).\n",
    "\n",
    "Check that the content of ```results.zip``` looks like this:\n",
    "\n",
    "```\n",
    "results\n",
    "|- 1.0.000.000000.0.00.0.0000000000.0000.0000000000.000.mhd\n",
    "|- 1.0.000.000000.0.00.0.0000000000.0000.0000000000.000.zraw\n",
    "|- 1.2.276.0.28.3.0.14.4.0.20090213134050413.mhd\n",
    "|- 1.2.276.0.28.3.0.14.4.0.20090213134050413.zraw\n",
    "|- 1.2.276.0.28.3.0.14.4.0.20090213134114792.mhd\n",
    "|- 1.2.276.0.28.3.0.14.4.0.20090213134114792.zraw\n",
    "|- 1.2.392.200036.9116.2.2.2.1762676169.1080882991.2256.mhd\n",
    "|- 1.2.392.200036.9116.2.2.2.1762676169.1080882991.2256.zraw\n",
    "|- 1.2.840.113704.1.111.2004.1131987870.11.mhd\n",
    "|- 1.2.840.113704.1.111.2004.1131987870.11.zraw\n",
    "|- 1.2.840.113704.1.111.2296.1199810886.7.mhd\n",
    "|- 1.2.840.113704.1.111.2296.1199810886.7.zraw\n",
    "|- 1.2.840.113704.1.111.2296.1199810941.11.mhd\n",
    "|- 1.2.840.113704.1.111.2296.1199810941.11.zraw\n",
    "|- 1.2.840.113704.1.111.4400.1131982359.11.mhd\n",
    "|- 1.2.840.113704.1.111.4400.1131982359.11.zraw\n",
    "|- 1.3.12.2.1107.5.1.4.50585.4.0.7023259421321855.mhd\n",
    "|- 1.3.12.2.1107.5.1.4.50585.4.0.7023259421321855.zraw\n",
    "|- 2.16.840.1.113669.632.21.3825556854.538251028.390606191418956020.mhd\n",
    "\\- 2.16.840.1.113669.632.21.3825556854.538251028.390606191418956020.zraw\n",
    "```\n",
    "\n",
    "Next, upload your result to the challenge website (https://exact09.grand-challenge.org/) at the *Submit* section and see how well you performed compared to your fellow students! You can submit as often as you want, only the best result counts.\n",
    "\n",
    "Note that the evaluation may take several minutes, because the platform has to process 3D data, and there may be several submissions to be evaluated at the same time. You can check the status of the evaluation of your submission at any time on grand-challenge.org."
   ]
  },
  {
   "cell_type": "markdown",
   "metadata": {},
   "source": [
    "## Task 2. Improving airway segmentation\n",
    "\n",
    "Now that you have segmented airways using the connected component algorithm, you can improve the airway segmentation by using other (additional) techniques. For this task, you can use all the knowledge that you have on *filtering*, *texture analysis*, *classification* and *morphology*.\n",
    "There is no specific limitation to what you can do here, pick the technique (or the techniques) that you think is the most appropriate, and try to improve your results. **Be creative!**\n",
    "\n",
    "## DO NOT MODIFY THE CELLS ABOVE! INSTEAD, MAKE NEW CELLS BELOW AND REUSE CODE FROM PREVIOUS CELLS!\n"
   ]
  },
  {
   "cell_type": "code",
   "execution_count": null,
   "metadata": {
    "collapsed": true
   },
   "outputs": [],
   "source": [
    "# You can add your new code here.\n",
    "# Add more cells using the \"+\" button in the toolbar of this notebook.\n",
    "# If you want to add \"code\" cells, select the \"Code\" type (default).\n",
    "# If you want to add \"text\" cells, select the \"Markdown\" type."
   ]
  },
  {
   "cell_type": "code",
   "execution_count": null,
   "metadata": {
    "collapsed": true
   },
   "outputs": [],
   "source": []
  }
 ],
 "metadata": {
  "kernelspec": {
   "display_name": "Python 3",
   "language": "python",
   "name": "python3"
  },
  "language_info": {
   "codemirror_mode": {
    "name": "ipython",
    "version": 3
   },
   "file_extension": ".py",
   "mimetype": "text/x-python",
   "name": "python",
   "nbconvert_exporter": "python",
   "pygments_lexer": "ipython3",
   "version": "3.5.4"
  }
 },
 "nbformat": 4,
 "nbformat_minor": 2
}
